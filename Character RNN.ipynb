{
 "cells": [
  {
   "cell_type": "code",
   "execution_count": null,
   "metadata": {},
   "outputs": [],
   "source": [
    "import torch\n",
    "import torch.optim as optim\n",
    "import numpy as np\n",
    "import pandas as pd\n",
    "import torch.nn as nn\n",
    "import torch.nn.functional as F\n",
    "from tqdm.notebook import tqdm\n",
    "import random\n",
    "import sys\n",
    "from scipy.special import softmax\n",
    "import re"
   ]
  },
  {
   "cell_type": "code",
   "execution_count": null,
   "metadata": {},
   "outputs": [],
   "source": [
    "with open (\"shakespeare.txt\", \"r\") as f:\n",
    "    data=f.readlines()\n",
    "text = ''\n",
    "for line in data:\n",
    "    text = text + line\n",
    "text[:200]"
   ]
  },
  {
   "cell_type": "code",
   "execution_count": null,
   "metadata": {},
   "outputs": [],
   "source": [
    "characters = list(set(text))\n",
    "char_map = {}\n",
    "inv_char_map = {}\n",
    "for i in range(len(characters)):\n",
    "    char_map[characters[i]] = i + 1\n",
    "    inv_char_map[i] = characters[i]"
   ]
  },
  {
   "cell_type": "code",
   "execution_count": null,
   "metadata": {},
   "outputs": [],
   "source": [
    "len(char_map)"
   ]
  },
  {
   "cell_type": "code",
   "execution_count": null,
   "metadata": {},
   "outputs": [],
   "source": [
    "max_len = 40\n",
    "x_data = []\n",
    "y_data = []\n",
    "for i in range(len(text) - max_len):\n",
    "    x_data.append(text[i:i+max_len])\n",
    "    y_data.append(text[i+max_len])"
   ]
  },
  {
   "cell_type": "code",
   "execution_count": null,
   "metadata": {},
   "outputs": [],
   "source": [
    "def sample(preds, temperature=1.0):\n",
    "    # helper function to sample an index from a probability array\n",
    "    preds = np.asarray(preds).astype('float64')\n",
    "    preds = np.log(preds) / temperature\n",
    "    exp_preds = np.exp(preds)\n",
    "    preds = exp_preds / np.sum(exp_preds)\n",
    "    probas = np.random.multinomial(1, preds, 1)\n",
    "    return np.argmax(probas)"
   ]
  },
  {
   "cell_type": "code",
   "execution_count": null,
   "metadata": {},
   "outputs": [],
   "source": [
    "class LanguagePredictor(nn.Module):\n",
    "\n",
    "    def __init__(self, vocab_size, embedding_dim, output_size):\n",
    "        super(LanguagePredictor, self).__init__()\n",
    "        self.embeddings = nn.Embedding(vocab_size, embedding_dim)\n",
    "        self.lstm = nn.LSTM(embedding_dim, 512, bidirectional = True) # Change setting to make Bi-directional\n",
    "        self.linear1 = nn.Linear(512*max_len*2, output_size)\n",
    "        self.vocab_size = vocab_size\n",
    "        self.embedding_dim = embedding_dim\n",
    "\n",
    "    def forward(self, inputs):\n",
    "        embeds = self.embeddings(inputs)\n",
    "        lstm_out, _ = self.lstm(embeds)\n",
    "        out = self.linear1((lstm_out.view(-1, 512*max_len*2)))\n",
    "        return out\n",
    "model = LanguagePredictor(len(characters)+1, 15, len(characters)).to('cuda')\n",
    "loss_function = nn.CrossEntropyLoss()\n"
   ]
  },
  {
   "cell_type": "code",
   "execution_count": null,
   "metadata": {},
   "outputs": [],
   "source": [
    "len(x_data)"
   ]
  },
  {
   "cell_type": "code",
   "execution_count": null,
   "metadata": {},
   "outputs": [],
   "source": [
    "import copy\n",
    "batch_size = 512\n",
    "optimizer = optim.Adam(model.parameters(), lr=0.001)\n",
    "indices=np.arange(len(x_data))[:90000]\n",
    "val_indices=np.arange(len(x_data))[90000:]\n",
    "batch_x, batch_y = [], []\n",
    "best_loss = np.inf\n",
    "epochs_since_best = 0\n",
    "best = None\n",
    "for epoch in tqdm(range(300)):\n",
    "    epoch_loss = 0\n",
    "    np.random.shuffle(indices)\n",
    "    model.train()\n",
    "    for i in tqdm(indices):\n",
    "        x = x_data[i]\n",
    "        y = y_data[i]\n",
    "        x_arr = np.zeros(max_len)\n",
    "        for i in range(len(x)):\n",
    "            x_arr[i] = char_map[x[i]]\n",
    "        batch_x.append(x_arr)\n",
    "        batch_y.append(char_map[y]-1)\n",
    "        if(len(batch_x) == batch_size):\n",
    "\n",
    "            model.zero_grad()\n",
    "\n",
    "            log_probs = model(torch.tensor(batch_x, dtype = torch.long).to('cuda'))\n",
    "\n",
    "            loss = loss_function(log_probs, torch.tensor(batch_y, dtype=torch.long).to('cuda'))\n",
    "\n",
    "            loss.backward()\n",
    "            optimizer.step()\n",
    "\n",
    "            batch_x, batch_y = [], []\n",
    "            epoch_loss += loss.item()\n",
    "    model.eval()\n",
    "    epoch_val_loss = 0\n",
    "    np.random.shuffle(val_indices)\n",
    "    for i in tqdm(val_indices):\n",
    "        x = x_data[i]\n",
    "        y = y_data[i]\n",
    "        x_arr = np.zeros(max_len)\n",
    "        for i in range(len(x)):\n",
    "            x_arr[i] = char_map[x[i]]\n",
    "        batch_x.append(x_arr)\n",
    "        batch_y.append(char_map[y]-1)\n",
    "        if(len(batch_x) == batch_size):\n",
    "\n",
    "\n",
    "            log_probs = model(torch.tensor(batch_x, dtype = torch.long).to('cuda'))\n",
    "\n",
    "            loss = loss_function(log_probs, torch.tensor(batch_y, dtype=torch.long).to('cuda'))\n",
    "\n",
    "\n",
    "            batch_x, batch_y = [], []\n",
    "            epoch_val_loss += loss.item()\n",
    "    print(epoch_loss, epoch_val_loss)\n",
    "    if(epoch_val_loss < best_loss ):\n",
    "        best = copy.deepcopy(model.state_dict())\n",
    "        best_loss = epoch_val_loss\n",
    "        epochs_since_best = 0\n",
    "    elif(epochs_since_best > 9 and epoch > 30):\n",
    "        break\n",
    "    else:\n",
    "        epochs_since_best += 1\n",
    "    \n",
    "model.load_state_dict(best)"
   ]
  },
  {
   "cell_type": "code",
   "execution_count": null,
   "metadata": {},
   "outputs": [],
   "source": [
    "model.eval()\n",
    "start_index = random.randint(0, len(text) - max_len - 1)\n",
    "for diversity in [0.01, 0.05, 0.2]:\n",
    "    print('$$$$$$$$$$$$$$$$$$$$$$$')\n",
    "    print(diversity)\n",
    "    print('$$$$$$$$$$$$$$$$$$$$$$$')\n",
    "    generated = ''\n",
    "    sentence = \"shall i compare thee to a summer's day?\\n\"\n",
    "    print(sentence)\n",
    "    generated += sentence\n",
    "    for i in range(2000):\n",
    "        x_arr = np.zeros(max_len)\n",
    "        for i in range(len(sentence)):\n",
    "            x_arr[i] = char_map[sentence[i]]\n",
    "        preds = (softmax(model(torch.tensor([x_arr], dtype=torch.long).cuda()).cpu().detach().numpy() )+ 1e-50)\n",
    "        preds = preds/preds.sum()\n",
    "        next_index = sample(preds.reshape(-1), diversity)\n",
    "        next_char = inv_char_map[next_index]\n",
    "\n",
    "        sentence = sentence[1:] + next_char\n",
    "\n",
    "        sys.stdout.write(next_char)\n",
    "        sys.stdout.flush()\n",
    "    print()"
   ]
  }
 ],
 "metadata": {
  "kernelspec": {
   "display_name": "Python 3",
   "language": "python",
   "name": "python3"
  },
  "language_info": {
   "codemirror_mode": {
    "name": "ipython",
    "version": 3
   },
   "file_extension": ".py",
   "mimetype": "text/x-python",
   "name": "python",
   "nbconvert_exporter": "python",
   "pygments_lexer": "ipython3",
   "version": "3.7.6"
  }
 },
 "nbformat": 4,
 "nbformat_minor": 4
}
