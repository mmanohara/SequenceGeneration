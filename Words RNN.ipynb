{
 "cells": [
  {
   "cell_type": "code",
   "execution_count": null,
   "metadata": {},
   "outputs": [],
   "source": [
    "import torch\n",
    "import torch.optim as optim\n",
    "import numpy as np\n",
    "import pandas as pd\n",
    "import torch.nn as nn\n",
    "import torch.nn.functional as F\n",
    "from tqdm.notebook import tqdm\n",
    "import random\n",
    "import sys\n",
    "from scipy.special import softmax\n",
    "\n",
    "from HMM import unsupervised_HMM\n",
    "from HMM_helper import (\n",
    "    sample_sentence,\n",
    ")\n",
    "import re\n",
    "def parse_observations(text):\n",
    "    # Convert text to dataset.\n",
    "    lines = [line.split() for line in text.split('\\n') if line.split()]\n",
    "    obs = []\n",
    "    obs_map = {}\n",
    "    obs_map['\\n'] = 0\n",
    "    obs_counter = 1\n",
    "\n",
    "    for line in lines:\n",
    "        obs_elem = []\n",
    "        \n",
    "        for word in line:\n",
    "            word = re.sub(r'[^\\w\\n]', '', word).lower()\n",
    "            if word not in obs_map:\n",
    "                # Add unique words to the observations map.\n",
    "                obs_map[word] = obs_counter\n",
    "                obs_counter += 1\n",
    "            \n",
    "            # Add the encoded word.\n",
    "            obs_elem.append(obs_map[word])\n",
    "        obs_elem.append(obs_map['\\n'])\n",
    "        # Add the encoded sequence.\n",
    "        obs.append(obs_elem)\n",
    "\n",
    "    return obs, obs_map"
   ]
  },
  {
   "cell_type": "code",
   "execution_count": null,
   "metadata": {},
   "outputs": [],
   "source": [
    "with open (\"shakespeare.txt\", \"r\") as f:\n",
    "    data=f.readlines()\n",
    "text = ''\n",
    "for line in data:\n",
    "    text = text + line.lower()\n",
    "text[:200]"
   ]
  },
  {
   "cell_type": "code",
   "execution_count": null,
   "metadata": {},
   "outputs": [],
   "source": [
    "obs, obs_map = parse_observations(text)"
   ]
  },
  {
   "cell_type": "code",
   "execution_count": null,
   "metadata": {},
   "outputs": [],
   "source": [
    "my_split = ['shall', 'i', 'compare', 'thee', 'to', 'a', \"summer's\", 'day']\n",
    "my_obs = []\n",
    "for word in my_split:\n",
    "    word = re.sub(r'[^\\w\\n]', '', word).lower()\n",
    "    # Add the encoded word.\n",
    "    my_obs.append(obs_map[word])\n",
    "my_obs.append(obs_map['\\n'])"
   ]
  },
  {
   "cell_type": "code",
   "execution_count": null,
   "metadata": {},
   "outputs": [],
   "source": [
    "my_obs"
   ]
  },
  {
   "cell_type": "code",
   "execution_count": null,
   "metadata": {},
   "outputs": [],
   "source": [
    "inv_obs_map = {}\n",
    "for key in (obs_map):\n",
    "    inv_obs_map[obs_map[key]] = key\n"
   ]
  },
  {
   "cell_type": "code",
   "execution_count": null,
   "metadata": {},
   "outputs": [],
   "source": [
    "text = []\n",
    "for ob in obs:\n",
    "    for o in ob:\n",
    "        text.append(o)"
   ]
  },
  {
   "cell_type": "code",
   "execution_count": null,
   "metadata": {},
   "outputs": [],
   "source": [
    "max_len = 8\n",
    "x_data = []\n",
    "y_data = []\n",
    "for i in range(1,len(text) - max_len-1):\n",
    "    x_data.append(text[i:i+max_len])\n",
    "    y_data.append(text[i+max_len])"
   ]
  },
  {
   "cell_type": "code",
   "execution_count": null,
   "metadata": {},
   "outputs": [],
   "source": [
    "def sample(preds, temperature=1.0):\n",
    "    # helper function to sample an index from a probability array\n",
    "    preds = np.asarray(preds).astype('float64')\n",
    "    preds = np.log(preds) / temperature\n",
    "    exp_preds = np.exp(preds)\n",
    "    preds = exp_preds / np.sum(exp_preds)\n",
    "    probas = np.random.multinomial(1, preds, 1)\n",
    "    return np.argmax(probas)"
   ]
  },
  {
   "cell_type": "code",
   "execution_count": null,
   "metadata": {},
   "outputs": [],
   "source": [
    "class LanguagePredictor(nn.Module):\n",
    "\n",
    "    def __init__(self, vocab_size, embedding_dim, output_size):\n",
    "        super(LanguagePredictor, self).__init__()\n",
    "        self.embeddings = nn.Embedding(vocab_size, embedding_dim)\n",
    "        self.lstm = nn.LSTM(embedding_dim, 128, bidirectional = True) # Change setting to make Bi-directional, dropout = 0.5\n",
    "        self.linear1 = nn.Linear(128*max_len*2, output_size)\n",
    "        self.vocab_size = vocab_size\n",
    "        self.embedding_dim = embedding_dim\n",
    "\n",
    "    def forward(self, inputs):\n",
    "        embeds = self.embeddings(inputs)\n",
    "        lstm_out, _ = self.lstm(embeds)\n",
    "        out = self.linear1((lstm_out.view(-1, 128*max_len*2)))\n",
    "        return out\n",
    "model = LanguagePredictor(len(obs_map)+1, 30, len(obs_map)).to('cuda')\n",
    "loss_function = nn.CrossEntropyLoss()\n"
   ]
  },
  {
   "cell_type": "code",
   "execution_count": null,
   "metadata": {},
   "outputs": [],
   "source": [
    "optimizer = optim.Adam(model.parameters(), lr=0.0001)\n",
    "indices=np.arange(len(x_data))[:18000]\n",
    "val_indices=np.arange(len(x_data))[18000:]\n",
    "batch_x, batch_y = [], []\n",
    "batch_size = 256\n",
    "for epoch in tqdm(range(300)):\n",
    "    epoch_loss = 0\n",
    "    np.random.shuffle(indices)\n",
    "    model.train()\n",
    "    for i in tqdm(indices):\n",
    "        x = x_data[i]\n",
    "        y = y_data[i]\n",
    "        x_arr = np.zeros(max_len)\n",
    "        for i in range(len(x)):\n",
    "            x_arr[i] = x[i] + 1\n",
    "        batch_x.append(x_arr)\n",
    "        batch_y.append(y)\n",
    "        if(len(batch_x) == batch_size):\n",
    "\n",
    "            model.zero_grad()\n",
    "\n",
    "            log_probs = model(torch.tensor(batch_x, dtype = torch.long).to('cuda'))\n",
    "\n",
    "            loss = loss_function(log_probs, torch.tensor(batch_y, dtype=torch.long).to('cuda'))\n",
    "\n",
    "            loss.backward()\n",
    "            optimizer.step()\n",
    "\n",
    "            batch_x, batch_y = [], []\n",
    "            epoch_loss += loss.item()\n",
    "    model.eval()\n",
    "    epoch_val_loss = 0\n",
    "    for i in tqdm(val_indices):\n",
    "        x = x_data[i]\n",
    "        y = y_data[i]\n",
    "        x_arr = np.zeros(max_len)\n",
    "        for i in range(len(x)):\n",
    "            x_arr[i] = x[i] + 1\n",
    "        batch_x.append(x_arr)\n",
    "        batch_y.append(y)\n",
    "        if(len(batch_x) == batch_size):\n",
    "\n",
    "\n",
    "            log_probs = model(torch.tensor(batch_x, dtype = torch.long).to('cuda'))\n",
    "\n",
    "            loss = loss_function(log_probs, torch.tensor(batch_y, dtype=torch.long).to('cuda'))\n",
    "\n",
    "\n",
    "            batch_x, batch_y = [], []\n",
    "            epoch_val_loss += loss.item()\n",
    "    print(epoch_loss, epoch_val_loss)"
   ]
  },
  {
   "cell_type": "code",
   "execution_count": null,
   "metadata": {},
   "outputs": [],
   "source": [
    "model.eval()\n",
    "def sentence_to_text(sentence):\n",
    "    txt = ''\n",
    "    for word in sentence:\n",
    "        txt+= inv_obs_map[word] + ' '\n",
    "    return txt\n",
    "        \n",
    "start_index = random.randint(0, len(text) - max_len - 1)\n",
    "for diversity in [0.01, 0.05, 0.1, 0.2, 0.5]:\n",
    "    print('$$$$$$$$$$$$$$$$$$$$$$$')\n",
    "    print(diversity)\n",
    "    print('$$$$$$$$$$$$$$$$$$$$$$$')\n",
    "\n",
    "    generated = ''\n",
    "    x = my_obs[-8:]#text[start_index: start_index + max_len]\n",
    "    sentence = sentence_to_text(x)\n",
    "    generated += sentence\n",
    "    print(sentence)\n",
    "\n",
    "    for i in range(200):\n",
    "        x_arr = np.zeros(max_len)\n",
    "        for i in range(len(x)):\n",
    "            x_arr[i] = x[i] + 1\n",
    "        preds = (softmax(model(torch.tensor([x_arr], dtype=torch.long).cuda()).cpu().detach().numpy() )+ 1e-90)\n",
    "        preds = preds/preds.sum()\n",
    "        next_index = sample(preds.reshape(-1), diversity)\n",
    "        next_char = inv_obs_map[next_index]\n",
    "        \n",
    "        x = x[1:]\n",
    "        x.append(next_index)\n",
    "        \n",
    "        sys.stdout.write(' ' + next_char)\n",
    "        sys.stdout.flush()\n",
    "    print()"
   ]
  }
 ],
 "metadata": {
  "kernelspec": {
   "display_name": "Python 3",
   "language": "python",
   "name": "python3"
  },
  "language_info": {
   "codemirror_mode": {
    "name": "ipython",
    "version": 3
   },
   "file_extension": ".py",
   "mimetype": "text/x-python",
   "name": "python",
   "nbconvert_exporter": "python",
   "pygments_lexer": "ipython3",
   "version": "3.7.6"
  }
 },
 "nbformat": 4,
 "nbformat_minor": 4
}
